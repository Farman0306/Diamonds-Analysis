{
 "cells": [
  {
   "cell_type": "code",
   "execution_count": 1,
   "id": "fb6ba124",
   "metadata": {},
   "outputs": [],
   "source": [
    "import pandas as pd\n",
    "import plotly.express as px\n",
    "import plotly.graph_objects as go"
   ]
  },
  {
   "cell_type": "code",
   "execution_count": 2,
   "id": "5e148ca3",
   "metadata": {},
   "outputs": [],
   "source": [
    "natural_diamond_yearly = pd.read_excel('diamonds_gem.xlsx')\n",
    "lab_diamond_yearly = pd.read_excel('diamonds_ind.xlsx')"
   ]
  },
  {
   "cell_type": "code",
   "execution_count": 40,
   "id": "cd45ef75",
   "metadata": {},
   "outputs": [],
   "source": [
    "df1 = natural_diamond_yearly.drop([\"unit\",\"data source\"],axis=1)\n",
    "df2 = lab_diamond_yearly.drop([\"unit\"],axis=1)"
   ]
  },
  {
   "cell_type": "code",
   "execution_count": 41,
   "id": "43ff9833",
   "metadata": {},
   "outputs": [
    {
     "data": {
      "application/vnd.plotly.v1+json": {
       "config": {
        "plotlyServerURL": "https://plot.ly"
       },
       "data": [
        {
         "cells": {
          "align": [
           "left",
           "center"
          ],
          "fill": {
           "color": [
            [
             "white",
             "lightgrey",
             "white",
             "lightgrey",
             "white",
             "white",
             "lightgrey",
             "white",
             "lightgrey",
             "white",
             "white",
             "lightgrey",
             "white",
             "lightgrey",
             "white",
             "white",
             "lightgrey",
             "white",
             "lightgrey",
             "white",
             "white",
             "lightgrey",
             "white",
             "lightgrey",
             "white"
            ]
           ]
          },
          "font": {
           "color": "darkslategray",
           "size": 12
          },
          "line": {
           "color": "darkslategray"
          },
          "values": [
           [
            "Angola",
            "Australia",
            "Botswana",
            "Brazil",
            "Canada",
            "Central African Republic",
            "China",
            "Congo, D.R.",
            "Cote d'Ivoire",
            "Ghana",
            "Guinea",
            "Guyana",
            "India",
            "Lesotho",
            "Liberia",
            "Namibia",
            "Russia",
            "Sierra Leone",
            "South Africa",
            "Tanzania",
            "Venezuela",
            "Zimbabwe"
           ],
           [
            8119320,
            279160,
            14623700,
            60560,
            13315319,
            9973,
            127,
            3111890,
            16188,
            114400,
            84597,
            104920,
            13970,
            342014,
            36220,
            1494350,
            24431760,
            417952,
            3322220,
            203915,
            null,
            639920
           ],
           [
            8494920,
            342690,
            16058700,
            84115,
            23198761,
            47840,
            230,
            2268332,
            8925,
            69540,
            136090,
            39120,
            12940,
            1126409,
            36380,
            1713800,
            21860500,
            165860,
            3877040,
            258785,
            0,
            752360
           ],
           [
            8490500,
            280160,
            17064600,
            82810,
            22789001,
            10020,
            99,
            1815745,
            4540,
            46025,
            219530,
            46580,
            13877,
            1294283,
            45330,
            1985670,
            22973133,
            402530,
            3964730,
            324105,
            800,
            975730
           ],
           [
            8234770,
            243090,
            16580900,
            53240,
            17560210,
            18880,
            51,
            2020450,
            3989,
            27030,
            171880,
            41240,
            10301,
            1113526,
            33560,
            1722830,
            25804591,
            433054,
            2872280,
            354240,
            0,
            423840
           ],
           [
            6960850,
            199600,
            11807600,
            43200,
            15035711,
            40320,
            21,
            2588850,
            4012,
            20230,
            96430,
            14430,
            5010,
            481243,
            32760,
            1428445,
            18711931,
            483232,
            3399300,
            125110,
            794,
            534090
           ]
          ]
         },
         "columnwidth": [
          70,
          50,
          50,
          50,
          50,
          50
         ],
         "header": {
          "align": [
           "left",
           "center"
          ],
          "fill": {
           "color": "grey"
          },
          "font": {
           "color": "white",
           "size": 12
          },
          "line": {
           "color": "darkslategray"
          },
          "values": [
           "Country",
           "2016",
           "2017",
           "2018",
           "2019",
           "2020"
          ]
         },
         "type": "table"
        }
       ],
       "layout": {
        "showlegend": false,
        "template": {
         "data": {
          "bar": [
           {
            "error_x": {
             "color": "#2a3f5f"
            },
            "error_y": {
             "color": "#2a3f5f"
            },
            "marker": {
             "line": {
              "color": "#E5ECF6",
              "width": 0.5
             },
             "pattern": {
              "fillmode": "overlay",
              "size": 10,
              "solidity": 0.2
             }
            },
            "type": "bar"
           }
          ],
          "barpolar": [
           {
            "marker": {
             "line": {
              "color": "#E5ECF6",
              "width": 0.5
             },
             "pattern": {
              "fillmode": "overlay",
              "size": 10,
              "solidity": 0.2
             }
            },
            "type": "barpolar"
           }
          ],
          "carpet": [
           {
            "aaxis": {
             "endlinecolor": "#2a3f5f",
             "gridcolor": "white",
             "linecolor": "white",
             "minorgridcolor": "white",
             "startlinecolor": "#2a3f5f"
            },
            "baxis": {
             "endlinecolor": "#2a3f5f",
             "gridcolor": "white",
             "linecolor": "white",
             "minorgridcolor": "white",
             "startlinecolor": "#2a3f5f"
            },
            "type": "carpet"
           }
          ],
          "choropleth": [
           {
            "colorbar": {
             "outlinewidth": 0,
             "ticks": ""
            },
            "type": "choropleth"
           }
          ],
          "contour": [
           {
            "colorbar": {
             "outlinewidth": 0,
             "ticks": ""
            },
            "colorscale": [
             [
              0,
              "#0d0887"
             ],
             [
              0.1111111111111111,
              "#46039f"
             ],
             [
              0.2222222222222222,
              "#7201a8"
             ],
             [
              0.3333333333333333,
              "#9c179e"
             ],
             [
              0.4444444444444444,
              "#bd3786"
             ],
             [
              0.5555555555555556,
              "#d8576b"
             ],
             [
              0.6666666666666666,
              "#ed7953"
             ],
             [
              0.7777777777777778,
              "#fb9f3a"
             ],
             [
              0.8888888888888888,
              "#fdca26"
             ],
             [
              1,
              "#f0f921"
             ]
            ],
            "type": "contour"
           }
          ],
          "contourcarpet": [
           {
            "colorbar": {
             "outlinewidth": 0,
             "ticks": ""
            },
            "type": "contourcarpet"
           }
          ],
          "heatmap": [
           {
            "colorbar": {
             "outlinewidth": 0,
             "ticks": ""
            },
            "colorscale": [
             [
              0,
              "#0d0887"
             ],
             [
              0.1111111111111111,
              "#46039f"
             ],
             [
              0.2222222222222222,
              "#7201a8"
             ],
             [
              0.3333333333333333,
              "#9c179e"
             ],
             [
              0.4444444444444444,
              "#bd3786"
             ],
             [
              0.5555555555555556,
              "#d8576b"
             ],
             [
              0.6666666666666666,
              "#ed7953"
             ],
             [
              0.7777777777777778,
              "#fb9f3a"
             ],
             [
              0.8888888888888888,
              "#fdca26"
             ],
             [
              1,
              "#f0f921"
             ]
            ],
            "type": "heatmap"
           }
          ],
          "heatmapgl": [
           {
            "colorbar": {
             "outlinewidth": 0,
             "ticks": ""
            },
            "colorscale": [
             [
              0,
              "#0d0887"
             ],
             [
              0.1111111111111111,
              "#46039f"
             ],
             [
              0.2222222222222222,
              "#7201a8"
             ],
             [
              0.3333333333333333,
              "#9c179e"
             ],
             [
              0.4444444444444444,
              "#bd3786"
             ],
             [
              0.5555555555555556,
              "#d8576b"
             ],
             [
              0.6666666666666666,
              "#ed7953"
             ],
             [
              0.7777777777777778,
              "#fb9f3a"
             ],
             [
              0.8888888888888888,
              "#fdca26"
             ],
             [
              1,
              "#f0f921"
             ]
            ],
            "type": "heatmapgl"
           }
          ],
          "histogram": [
           {
            "marker": {
             "pattern": {
              "fillmode": "overlay",
              "size": 10,
              "solidity": 0.2
             }
            },
            "type": "histogram"
           }
          ],
          "histogram2d": [
           {
            "colorbar": {
             "outlinewidth": 0,
             "ticks": ""
            },
            "colorscale": [
             [
              0,
              "#0d0887"
             ],
             [
              0.1111111111111111,
              "#46039f"
             ],
             [
              0.2222222222222222,
              "#7201a8"
             ],
             [
              0.3333333333333333,
              "#9c179e"
             ],
             [
              0.4444444444444444,
              "#bd3786"
             ],
             [
              0.5555555555555556,
              "#d8576b"
             ],
             [
              0.6666666666666666,
              "#ed7953"
             ],
             [
              0.7777777777777778,
              "#fb9f3a"
             ],
             [
              0.8888888888888888,
              "#fdca26"
             ],
             [
              1,
              "#f0f921"
             ]
            ],
            "type": "histogram2d"
           }
          ],
          "histogram2dcontour": [
           {
            "colorbar": {
             "outlinewidth": 0,
             "ticks": ""
            },
            "colorscale": [
             [
              0,
              "#0d0887"
             ],
             [
              0.1111111111111111,
              "#46039f"
             ],
             [
              0.2222222222222222,
              "#7201a8"
             ],
             [
              0.3333333333333333,
              "#9c179e"
             ],
             [
              0.4444444444444444,
              "#bd3786"
             ],
             [
              0.5555555555555556,
              "#d8576b"
             ],
             [
              0.6666666666666666,
              "#ed7953"
             ],
             [
              0.7777777777777778,
              "#fb9f3a"
             ],
             [
              0.8888888888888888,
              "#fdca26"
             ],
             [
              1,
              "#f0f921"
             ]
            ],
            "type": "histogram2dcontour"
           }
          ],
          "mesh3d": [
           {
            "colorbar": {
             "outlinewidth": 0,
             "ticks": ""
            },
            "type": "mesh3d"
           }
          ],
          "parcoords": [
           {
            "line": {
             "colorbar": {
              "outlinewidth": 0,
              "ticks": ""
             }
            },
            "type": "parcoords"
           }
          ],
          "pie": [
           {
            "automargin": true,
            "type": "pie"
           }
          ],
          "scatter": [
           {
            "fillpattern": {
             "fillmode": "overlay",
             "size": 10,
             "solidity": 0.2
            },
            "type": "scatter"
           }
          ],
          "scatter3d": [
           {
            "line": {
             "colorbar": {
              "outlinewidth": 0,
              "ticks": ""
             }
            },
            "marker": {
             "colorbar": {
              "outlinewidth": 0,
              "ticks": ""
             }
            },
            "type": "scatter3d"
           }
          ],
          "scattercarpet": [
           {
            "marker": {
             "colorbar": {
              "outlinewidth": 0,
              "ticks": ""
             }
            },
            "type": "scattercarpet"
           }
          ],
          "scattergeo": [
           {
            "marker": {
             "colorbar": {
              "outlinewidth": 0,
              "ticks": ""
             }
            },
            "type": "scattergeo"
           }
          ],
          "scattergl": [
           {
            "marker": {
             "colorbar": {
              "outlinewidth": 0,
              "ticks": ""
             }
            },
            "type": "scattergl"
           }
          ],
          "scattermapbox": [
           {
            "marker": {
             "colorbar": {
              "outlinewidth": 0,
              "ticks": ""
             }
            },
            "type": "scattermapbox"
           }
          ],
          "scatterpolar": [
           {
            "marker": {
             "colorbar": {
              "outlinewidth": 0,
              "ticks": ""
             }
            },
            "type": "scatterpolar"
           }
          ],
          "scatterpolargl": [
           {
            "marker": {
             "colorbar": {
              "outlinewidth": 0,
              "ticks": ""
             }
            },
            "type": "scatterpolargl"
           }
          ],
          "scatterternary": [
           {
            "marker": {
             "colorbar": {
              "outlinewidth": 0,
              "ticks": ""
             }
            },
            "type": "scatterternary"
           }
          ],
          "surface": [
           {
            "colorbar": {
             "outlinewidth": 0,
             "ticks": ""
            },
            "colorscale": [
             [
              0,
              "#0d0887"
             ],
             [
              0.1111111111111111,
              "#46039f"
             ],
             [
              0.2222222222222222,
              "#7201a8"
             ],
             [
              0.3333333333333333,
              "#9c179e"
             ],
             [
              0.4444444444444444,
              "#bd3786"
             ],
             [
              0.5555555555555556,
              "#d8576b"
             ],
             [
              0.6666666666666666,
              "#ed7953"
             ],
             [
              0.7777777777777778,
              "#fb9f3a"
             ],
             [
              0.8888888888888888,
              "#fdca26"
             ],
             [
              1,
              "#f0f921"
             ]
            ],
            "type": "surface"
           }
          ],
          "table": [
           {
            "cells": {
             "fill": {
              "color": "#EBF0F8"
             },
             "line": {
              "color": "white"
             }
            },
            "header": {
             "fill": {
              "color": "#C8D4E3"
             },
             "line": {
              "color": "white"
             }
            },
            "type": "table"
           }
          ]
         },
         "layout": {
          "annotationdefaults": {
           "arrowcolor": "#2a3f5f",
           "arrowhead": 0,
           "arrowwidth": 1
          },
          "autotypenumbers": "strict",
          "coloraxis": {
           "colorbar": {
            "outlinewidth": 0,
            "ticks": ""
           }
          },
          "colorscale": {
           "diverging": [
            [
             0,
             "#8e0152"
            ],
            [
             0.1,
             "#c51b7d"
            ],
            [
             0.2,
             "#de77ae"
            ],
            [
             0.3,
             "#f1b6da"
            ],
            [
             0.4,
             "#fde0ef"
            ],
            [
             0.5,
             "#f7f7f7"
            ],
            [
             0.6,
             "#e6f5d0"
            ],
            [
             0.7,
             "#b8e186"
            ],
            [
             0.8,
             "#7fbc41"
            ],
            [
             0.9,
             "#4d9221"
            ],
            [
             1,
             "#276419"
            ]
           ],
           "sequential": [
            [
             0,
             "#0d0887"
            ],
            [
             0.1111111111111111,
             "#46039f"
            ],
            [
             0.2222222222222222,
             "#7201a8"
            ],
            [
             0.3333333333333333,
             "#9c179e"
            ],
            [
             0.4444444444444444,
             "#bd3786"
            ],
            [
             0.5555555555555556,
             "#d8576b"
            ],
            [
             0.6666666666666666,
             "#ed7953"
            ],
            [
             0.7777777777777778,
             "#fb9f3a"
            ],
            [
             0.8888888888888888,
             "#fdca26"
            ],
            [
             1,
             "#f0f921"
            ]
           ],
           "sequentialminus": [
            [
             0,
             "#0d0887"
            ],
            [
             0.1111111111111111,
             "#46039f"
            ],
            [
             0.2222222222222222,
             "#7201a8"
            ],
            [
             0.3333333333333333,
             "#9c179e"
            ],
            [
             0.4444444444444444,
             "#bd3786"
            ],
            [
             0.5555555555555556,
             "#d8576b"
            ],
            [
             0.6666666666666666,
             "#ed7953"
            ],
            [
             0.7777777777777778,
             "#fb9f3a"
            ],
            [
             0.8888888888888888,
             "#fdca26"
            ],
            [
             1,
             "#f0f921"
            ]
           ]
          },
          "colorway": [
           "#636efa",
           "#EF553B",
           "#00cc96",
           "#ab63fa",
           "#FFA15A",
           "#19d3f3",
           "#FF6692",
           "#B6E880",
           "#FF97FF",
           "#FECB52"
          ],
          "font": {
           "color": "#2a3f5f"
          },
          "geo": {
           "bgcolor": "white",
           "lakecolor": "white",
           "landcolor": "#E5ECF6",
           "showlakes": true,
           "showland": true,
           "subunitcolor": "white"
          },
          "hoverlabel": {
           "align": "left"
          },
          "hovermode": "closest",
          "mapbox": {
           "style": "light"
          },
          "paper_bgcolor": "white",
          "plot_bgcolor": "#E5ECF6",
          "polar": {
           "angularaxis": {
            "gridcolor": "white",
            "linecolor": "white",
            "ticks": ""
           },
           "bgcolor": "#E5ECF6",
           "radialaxis": {
            "gridcolor": "white",
            "linecolor": "white",
            "ticks": ""
           }
          },
          "scene": {
           "xaxis": {
            "backgroundcolor": "#E5ECF6",
            "gridcolor": "white",
            "gridwidth": 2,
            "linecolor": "white",
            "showbackground": true,
            "ticks": "",
            "zerolinecolor": "white"
           },
           "yaxis": {
            "backgroundcolor": "#E5ECF6",
            "gridcolor": "white",
            "gridwidth": 2,
            "linecolor": "white",
            "showbackground": true,
            "ticks": "",
            "zerolinecolor": "white"
           },
           "zaxis": {
            "backgroundcolor": "#E5ECF6",
            "gridcolor": "white",
            "gridwidth": 2,
            "linecolor": "white",
            "showbackground": true,
            "ticks": "",
            "zerolinecolor": "white"
           }
          },
          "shapedefaults": {
           "line": {
            "color": "#2a3f5f"
           }
          },
          "ternary": {
           "aaxis": {
            "gridcolor": "white",
            "linecolor": "white",
            "ticks": ""
           },
           "baxis": {
            "gridcolor": "white",
            "linecolor": "white",
            "ticks": ""
           },
           "bgcolor": "#E5ECF6",
           "caxis": {
            "gridcolor": "white",
            "linecolor": "white",
            "ticks": ""
           }
          },
          "title": {
           "x": 0.05
          },
          "xaxis": {
           "automargin": true,
           "gridcolor": "white",
           "linecolor": "white",
           "ticks": "",
           "title": {
            "standoff": 15
           },
           "zerolinecolor": "white",
           "zerolinewidth": 2
          },
          "yaxis": {
           "automargin": true,
           "gridcolor": "white",
           "linecolor": "white",
           "ticks": "",
           "title": {
            "standoff": 15
           },
           "zerolinecolor": "white",
           "zerolinewidth": 2
          }
         }
        },
        "title": {
         "text": "Natural vs Lab-Grown Diamonds Production (2016-20)",
         "x": 0.5
        },
        "updatemenus": [
         {
          "buttons": [
           {
            "args": [
             {
              "cells.values": [
               [
                [
                 "Angola",
                 "Australia",
                 "Botswana",
                 "Brazil",
                 "Canada",
                 "Central African Republic",
                 "China",
                 "Congo, D.R.",
                 "Cote d'Ivoire",
                 "Ghana",
                 "Guinea",
                 "Guyana",
                 "India",
                 "Lesotho",
                 "Liberia",
                 "Namibia",
                 "Russia",
                 "Sierra Leone",
                 "South Africa",
                 "Tanzania",
                 "Venezuela",
                 "Zimbabwe"
                ],
                [
                 8119320,
                 279160,
                 14623700,
                 60560,
                 13315319,
                 9973,
                 127,
                 3111890,
                 16188,
                 114400,
                 84597,
                 104920,
                 13970,
                 342014,
                 36220,
                 1494350,
                 24431760,
                 417952,
                 3322220,
                 203915,
                 null,
                 639920
                ],
                [
                 8494920,
                 342690,
                 16058700,
                 84115,
                 23198761,
                 47840,
                 230,
                 2268332,
                 8925,
                 69540,
                 136090,
                 39120,
                 12940,
                 1126409,
                 36380,
                 1713800,
                 21860500,
                 165860,
                 3877040,
                 258785,
                 0,
                 752360
                ],
                [
                 8490500,
                 280160,
                 17064600,
                 82810,
                 22789001,
                 10020,
                 99,
                 1815745,
                 4540,
                 46025,
                 219530,
                 46580,
                 13877,
                 1294283,
                 45330,
                 1985670,
                 22973133,
                 402530,
                 3964730,
                 324105,
                 800,
                 975730
                ],
                [
                 8234770,
                 243090,
                 16580900,
                 53240,
                 17560210,
                 18880,
                 51,
                 2020450,
                 3989,
                 27030,
                 171880,
                 41240,
                 10301,
                 1113526,
                 33560,
                 1722830,
                 25804591,
                 433054,
                 2872280,
                 354240,
                 0,
                 423840
                ],
                [
                 6960850,
                 199600,
                 11807600,
                 43200,
                 15035711,
                 40320,
                 21,
                 2588850,
                 4012,
                 20230,
                 96430,
                 14430,
                 5010,
                 481243,
                 32760,
                 1428445,
                 18711931,
                 483232,
                 3399300,
                 125110,
                 794,
                 534090
                ]
               ]
              ]
             }
            ],
            "label": "Natural Diamonds",
            "method": "update"
           },
           {
            "args": [
             {
              "cells.values": [
               [
                [
                 "Angola",
                 "Australia",
                 "Botswana",
                 "Brazil",
                 "Cameroon",
                 "Central African Republic",
                 "Congo, D.R.",
                 "Congo, Rep.",
                 "Cote d'Ivoire",
                 "Ghana",
                 "Guinea",
                 "Guyana",
                 "India",
                 "Liberia",
                 "Namibia",
                 "Russia",
                 "Sierra Leone",
                 "South Africa",
                 "Tanzania",
                 "Togo",
                 "Venezuela",
                 "Zimbabwe"
                ],
                [
                 902147,
                 13678840,
                 6267300,
                 122955,
                 994,
                 2493,
                 12447557,
                 12110,
                 4047,
                 28605,
                 28200,
                 34970,
                 22520,
                 24150,
                 78650,
                 16287840,
                 131550,
                 4983330,
                 35985,
                 0,
                 null,
                 1493140
                ],
                [
                 943880,
                 16792040,
                 6882300,
                 170780,
                 1757,
                 11960,
                 16634432,
                 46758,
                 2231,
                 17385,
                 45360,
                 13040,
                 26760,
                 24250,
                 90200,
                 20754280,
                 122380,
                 5815560,
                 45670,
                 0,
                 0,
                 1755500
                ],
                [
                 943390,
                 13727890,
                 7313400,
                 168130,
                 1805,
                 2505,
                 13315465,
                 46768,
                 1140,
                 11505,
                 73180,
                 15530,
                 24560,
                 30220,
                 104510,
                 20187926,
                 339070,
                 5947100,
                 57195,
                 0,
                 1200,
                 2276690
                ],
                [
                 914975,
                 11911450,
                 7106100,
                 108085,
                 1737,
                 4720,
                 11449240,
                 2963,
                 0,
                 6760,
                 57300,
                 13750,
                 18515,
                 22370,
                 90675,
                 19466621,
                 391403,
                 4308420,
                 62510,
                 16,
                 0,
                 1695350
                ],
                [
                 773430,
                 9780400,
                 5060400,
                 87700,
                 2438,
                 10080,
                 10355400,
                 11157,
                 0,
                 5060,
                 32145,
                 4810,
                 8910,
                 21840,
                 75180,
                 12474620,
                 202800,
                 5098950,
                 22080,
                 0,
                 0,
                 2136370
                ]
               ]
              ]
             }
            ],
            "label": "Lab-Grown Diamonds",
            "method": "update"
           }
          ],
          "direction": "down",
          "showactive": true
         }
        ]
       }
      },
      "text/html": [
       "<div>                            <div id=\"46bfdf56-cdba-4313-a78f-9209c5ee0e9c\" class=\"plotly-graph-div\" style=\"height:525px; width:100%;\"></div>            <script type=\"text/javascript\">                require([\"plotly\"], function(Plotly) {                    window.PLOTLYENV=window.PLOTLYENV || {};                                    if (document.getElementById(\"46bfdf56-cdba-4313-a78f-9209c5ee0e9c\")) {                    Plotly.newPlot(                        \"46bfdf56-cdba-4313-a78f-9209c5ee0e9c\",                        [{\"cells\":{\"align\":[\"left\",\"center\"],\"fill\":{\"color\":[[\"white\",\"lightgrey\",\"white\",\"lightgrey\",\"white\",\"white\",\"lightgrey\",\"white\",\"lightgrey\",\"white\",\"white\",\"lightgrey\",\"white\",\"lightgrey\",\"white\",\"white\",\"lightgrey\",\"white\",\"lightgrey\",\"white\",\"white\",\"lightgrey\",\"white\",\"lightgrey\",\"white\"]]},\"font\":{\"color\":\"darkslategray\",\"size\":12},\"line\":{\"color\":\"darkslategray\"},\"values\":[[\"Angola\",\"Australia\",\"Botswana\",\"Brazil\",\"Canada\",\"Central African Republic\",\"China\",\"Congo, D.R.\",\"Cote d'Ivoire\",\"Ghana\",\"Guinea\",\"Guyana\",\"India\",\"Lesotho\",\"Liberia\",\"Namibia\",\"Russia\",\"Sierra Leone\",\"South Africa\",\"Tanzania\",\"Venezuela\",\"Zimbabwe\"],[8119320.0,279160.0,14623700.0,60560.0,13315319.0,9973.0,127.0,3111890.0,16188.0,114400.0,84597.0,104920.0,13970.0,342014.0,36220.0,1494350.0,24431760.0,417952.0,3322220.0,203915.0,null,639920.0],[8494920,342690,16058700,84115,23198761,47840,230,2268332,8925,69540,136090,39120,12940,1126409,36380,1713800,21860500,165860,3877040,258785,0,752360],[8490500,280160,17064600,82810,22789001,10020,99,1815745,4540,46025,219530,46580,13877,1294283,45330,1985670,22973133,402530,3964730,324105,800,975730],[8234770,243090,16580900,53240,17560210,18880,51,2020450,3989,27030,171880,41240,10301,1113526,33560,1722830,25804591,433054,2872280,354240,0,423840],[6960850,199600,11807600,43200,15035711,40320,21,2588850,4012,20230,96430,14430,5010,481243,32760,1428445,18711931,483232,3399300,125110,794,534090]]},\"columnwidth\":[70,50,50,50,50,50],\"header\":{\"align\":[\"left\",\"center\"],\"fill\":{\"color\":\"grey\"},\"font\":{\"color\":\"white\",\"size\":12},\"line\":{\"color\":\"darkslategray\"},\"values\":[\"Country\",\"2016\",\"2017\",\"2018\",\"2019\",\"2020\"]},\"type\":\"table\"}],                        {\"template\":{\"data\":{\"histogram2dcontour\":[{\"type\":\"histogram2dcontour\",\"colorbar\":{\"outlinewidth\":0,\"ticks\":\"\"},\"colorscale\":[[0.0,\"#0d0887\"],[0.1111111111111111,\"#46039f\"],[0.2222222222222222,\"#7201a8\"],[0.3333333333333333,\"#9c179e\"],[0.4444444444444444,\"#bd3786\"],[0.5555555555555556,\"#d8576b\"],[0.6666666666666666,\"#ed7953\"],[0.7777777777777778,\"#fb9f3a\"],[0.8888888888888888,\"#fdca26\"],[1.0,\"#f0f921\"]]}],\"choropleth\":[{\"type\":\"choropleth\",\"colorbar\":{\"outlinewidth\":0,\"ticks\":\"\"}}],\"histogram2d\":[{\"type\":\"histogram2d\",\"colorbar\":{\"outlinewidth\":0,\"ticks\":\"\"},\"colorscale\":[[0.0,\"#0d0887\"],[0.1111111111111111,\"#46039f\"],[0.2222222222222222,\"#7201a8\"],[0.3333333333333333,\"#9c179e\"],[0.4444444444444444,\"#bd3786\"],[0.5555555555555556,\"#d8576b\"],[0.6666666666666666,\"#ed7953\"],[0.7777777777777778,\"#fb9f3a\"],[0.8888888888888888,\"#fdca26\"],[1.0,\"#f0f921\"]]}],\"heatmap\":[{\"type\":\"heatmap\",\"colorbar\":{\"outlinewidth\":0,\"ticks\":\"\"},\"colorscale\":[[0.0,\"#0d0887\"],[0.1111111111111111,\"#46039f\"],[0.2222222222222222,\"#7201a8\"],[0.3333333333333333,\"#9c179e\"],[0.4444444444444444,\"#bd3786\"],[0.5555555555555556,\"#d8576b\"],[0.6666666666666666,\"#ed7953\"],[0.7777777777777778,\"#fb9f3a\"],[0.8888888888888888,\"#fdca26\"],[1.0,\"#f0f921\"]]}],\"heatmapgl\":[{\"type\":\"heatmapgl\",\"colorbar\":{\"outlinewidth\":0,\"ticks\":\"\"},\"colorscale\":[[0.0,\"#0d0887\"],[0.1111111111111111,\"#46039f\"],[0.2222222222222222,\"#7201a8\"],[0.3333333333333333,\"#9c179e\"],[0.4444444444444444,\"#bd3786\"],[0.5555555555555556,\"#d8576b\"],[0.6666666666666666,\"#ed7953\"],[0.7777777777777778,\"#fb9f3a\"],[0.8888888888888888,\"#fdca26\"],[1.0,\"#f0f921\"]]}],\"contourcarpet\":[{\"type\":\"contourcarpet\",\"colorbar\":{\"outlinewidth\":0,\"ticks\":\"\"}}],\"contour\":[{\"type\":\"contour\",\"colorbar\":{\"outlinewidth\":0,\"ticks\":\"\"},\"colorscale\":[[0.0,\"#0d0887\"],[0.1111111111111111,\"#46039f\"],[0.2222222222222222,\"#7201a8\"],[0.3333333333333333,\"#9c179e\"],[0.4444444444444444,\"#bd3786\"],[0.5555555555555556,\"#d8576b\"],[0.6666666666666666,\"#ed7953\"],[0.7777777777777778,\"#fb9f3a\"],[0.8888888888888888,\"#fdca26\"],[1.0,\"#f0f921\"]]}],\"surface\":[{\"type\":\"surface\",\"colorbar\":{\"outlinewidth\":0,\"ticks\":\"\"},\"colorscale\":[[0.0,\"#0d0887\"],[0.1111111111111111,\"#46039f\"],[0.2222222222222222,\"#7201a8\"],[0.3333333333333333,\"#9c179e\"],[0.4444444444444444,\"#bd3786\"],[0.5555555555555556,\"#d8576b\"],[0.6666666666666666,\"#ed7953\"],[0.7777777777777778,\"#fb9f3a\"],[0.8888888888888888,\"#fdca26\"],[1.0,\"#f0f921\"]]}],\"mesh3d\":[{\"type\":\"mesh3d\",\"colorbar\":{\"outlinewidth\":0,\"ticks\":\"\"}}],\"scatter\":[{\"fillpattern\":{\"fillmode\":\"overlay\",\"size\":10,\"solidity\":0.2},\"type\":\"scatter\"}],\"parcoords\":[{\"type\":\"parcoords\",\"line\":{\"colorbar\":{\"outlinewidth\":0,\"ticks\":\"\"}}}],\"scatterpolargl\":[{\"type\":\"scatterpolargl\",\"marker\":{\"colorbar\":{\"outlinewidth\":0,\"ticks\":\"\"}}}],\"bar\":[{\"error_x\":{\"color\":\"#2a3f5f\"},\"error_y\":{\"color\":\"#2a3f5f\"},\"marker\":{\"line\":{\"color\":\"#E5ECF6\",\"width\":0.5},\"pattern\":{\"fillmode\":\"overlay\",\"size\":10,\"solidity\":0.2}},\"type\":\"bar\"}],\"scattergeo\":[{\"type\":\"scattergeo\",\"marker\":{\"colorbar\":{\"outlinewidth\":0,\"ticks\":\"\"}}}],\"scatterpolar\":[{\"type\":\"scatterpolar\",\"marker\":{\"colorbar\":{\"outlinewidth\":0,\"ticks\":\"\"}}}],\"histogram\":[{\"marker\":{\"pattern\":{\"fillmode\":\"overlay\",\"size\":10,\"solidity\":0.2}},\"type\":\"histogram\"}],\"scattergl\":[{\"type\":\"scattergl\",\"marker\":{\"colorbar\":{\"outlinewidth\":0,\"ticks\":\"\"}}}],\"scatter3d\":[{\"type\":\"scatter3d\",\"line\":{\"colorbar\":{\"outlinewidth\":0,\"ticks\":\"\"}},\"marker\":{\"colorbar\":{\"outlinewidth\":0,\"ticks\":\"\"}}}],\"scattermapbox\":[{\"type\":\"scattermapbox\",\"marker\":{\"colorbar\":{\"outlinewidth\":0,\"ticks\":\"\"}}}],\"scatterternary\":[{\"type\":\"scatterternary\",\"marker\":{\"colorbar\":{\"outlinewidth\":0,\"ticks\":\"\"}}}],\"scattercarpet\":[{\"type\":\"scattercarpet\",\"marker\":{\"colorbar\":{\"outlinewidth\":0,\"ticks\":\"\"}}}],\"carpet\":[{\"aaxis\":{\"endlinecolor\":\"#2a3f5f\",\"gridcolor\":\"white\",\"linecolor\":\"white\",\"minorgridcolor\":\"white\",\"startlinecolor\":\"#2a3f5f\"},\"baxis\":{\"endlinecolor\":\"#2a3f5f\",\"gridcolor\":\"white\",\"linecolor\":\"white\",\"minorgridcolor\":\"white\",\"startlinecolor\":\"#2a3f5f\"},\"type\":\"carpet\"}],\"table\":[{\"cells\":{\"fill\":{\"color\":\"#EBF0F8\"},\"line\":{\"color\":\"white\"}},\"header\":{\"fill\":{\"color\":\"#C8D4E3\"},\"line\":{\"color\":\"white\"}},\"type\":\"table\"}],\"barpolar\":[{\"marker\":{\"line\":{\"color\":\"#E5ECF6\",\"width\":0.5},\"pattern\":{\"fillmode\":\"overlay\",\"size\":10,\"solidity\":0.2}},\"type\":\"barpolar\"}],\"pie\":[{\"automargin\":true,\"type\":\"pie\"}]},\"layout\":{\"autotypenumbers\":\"strict\",\"colorway\":[\"#636efa\",\"#EF553B\",\"#00cc96\",\"#ab63fa\",\"#FFA15A\",\"#19d3f3\",\"#FF6692\",\"#B6E880\",\"#FF97FF\",\"#FECB52\"],\"font\":{\"color\":\"#2a3f5f\"},\"hovermode\":\"closest\",\"hoverlabel\":{\"align\":\"left\"},\"paper_bgcolor\":\"white\",\"plot_bgcolor\":\"#E5ECF6\",\"polar\":{\"bgcolor\":\"#E5ECF6\",\"angularaxis\":{\"gridcolor\":\"white\",\"linecolor\":\"white\",\"ticks\":\"\"},\"radialaxis\":{\"gridcolor\":\"white\",\"linecolor\":\"white\",\"ticks\":\"\"}},\"ternary\":{\"bgcolor\":\"#E5ECF6\",\"aaxis\":{\"gridcolor\":\"white\",\"linecolor\":\"white\",\"ticks\":\"\"},\"baxis\":{\"gridcolor\":\"white\",\"linecolor\":\"white\",\"ticks\":\"\"},\"caxis\":{\"gridcolor\":\"white\",\"linecolor\":\"white\",\"ticks\":\"\"}},\"coloraxis\":{\"colorbar\":{\"outlinewidth\":0,\"ticks\":\"\"}},\"colorscale\":{\"sequential\":[[0.0,\"#0d0887\"],[0.1111111111111111,\"#46039f\"],[0.2222222222222222,\"#7201a8\"],[0.3333333333333333,\"#9c179e\"],[0.4444444444444444,\"#bd3786\"],[0.5555555555555556,\"#d8576b\"],[0.6666666666666666,\"#ed7953\"],[0.7777777777777778,\"#fb9f3a\"],[0.8888888888888888,\"#fdca26\"],[1.0,\"#f0f921\"]],\"sequentialminus\":[[0.0,\"#0d0887\"],[0.1111111111111111,\"#46039f\"],[0.2222222222222222,\"#7201a8\"],[0.3333333333333333,\"#9c179e\"],[0.4444444444444444,\"#bd3786\"],[0.5555555555555556,\"#d8576b\"],[0.6666666666666666,\"#ed7953\"],[0.7777777777777778,\"#fb9f3a\"],[0.8888888888888888,\"#fdca26\"],[1.0,\"#f0f921\"]],\"diverging\":[[0,\"#8e0152\"],[0.1,\"#c51b7d\"],[0.2,\"#de77ae\"],[0.3,\"#f1b6da\"],[0.4,\"#fde0ef\"],[0.5,\"#f7f7f7\"],[0.6,\"#e6f5d0\"],[0.7,\"#b8e186\"],[0.8,\"#7fbc41\"],[0.9,\"#4d9221\"],[1,\"#276419\"]]},\"xaxis\":{\"gridcolor\":\"white\",\"linecolor\":\"white\",\"ticks\":\"\",\"title\":{\"standoff\":15},\"zerolinecolor\":\"white\",\"automargin\":true,\"zerolinewidth\":2},\"yaxis\":{\"gridcolor\":\"white\",\"linecolor\":\"white\",\"ticks\":\"\",\"title\":{\"standoff\":15},\"zerolinecolor\":\"white\",\"automargin\":true,\"zerolinewidth\":2},\"scene\":{\"xaxis\":{\"backgroundcolor\":\"#E5ECF6\",\"gridcolor\":\"white\",\"linecolor\":\"white\",\"showbackground\":true,\"ticks\":\"\",\"zerolinecolor\":\"white\",\"gridwidth\":2},\"yaxis\":{\"backgroundcolor\":\"#E5ECF6\",\"gridcolor\":\"white\",\"linecolor\":\"white\",\"showbackground\":true,\"ticks\":\"\",\"zerolinecolor\":\"white\",\"gridwidth\":2},\"zaxis\":{\"backgroundcolor\":\"#E5ECF6\",\"gridcolor\":\"white\",\"linecolor\":\"white\",\"showbackground\":true,\"ticks\":\"\",\"zerolinecolor\":\"white\",\"gridwidth\":2}},\"shapedefaults\":{\"line\":{\"color\":\"#2a3f5f\"}},\"annotationdefaults\":{\"arrowcolor\":\"#2a3f5f\",\"arrowhead\":0,\"arrowwidth\":1},\"geo\":{\"bgcolor\":\"white\",\"landcolor\":\"#E5ECF6\",\"subunitcolor\":\"white\",\"showland\":true,\"showlakes\":true,\"lakecolor\":\"white\"},\"title\":{\"x\":0.05},\"mapbox\":{\"style\":\"light\"}}},\"title\":{\"text\":\"Natural vs Lab-Grown Diamonds Production (2016-20)\",\"x\":0.5},\"updatemenus\":[{\"buttons\":[{\"args\":[{\"cells.values\":[[[\"Angola\",\"Australia\",\"Botswana\",\"Brazil\",\"Canada\",\"Central African Republic\",\"China\",\"Congo, D.R.\",\"Cote d'Ivoire\",\"Ghana\",\"Guinea\",\"Guyana\",\"India\",\"Lesotho\",\"Liberia\",\"Namibia\",\"Russia\",\"Sierra Leone\",\"South Africa\",\"Tanzania\",\"Venezuela\",\"Zimbabwe\"],[8119320.0,279160.0,14623700.0,60560.0,13315319.0,9973.0,127.0,3111890.0,16188.0,114400.0,84597.0,104920.0,13970.0,342014.0,36220.0,1494350.0,24431760.0,417952.0,3322220.0,203915.0,null,639920.0],[8494920,342690,16058700,84115,23198761,47840,230,2268332,8925,69540,136090,39120,12940,1126409,36380,1713800,21860500,165860,3877040,258785,0,752360],[8490500,280160,17064600,82810,22789001,10020,99,1815745,4540,46025,219530,46580,13877,1294283,45330,1985670,22973133,402530,3964730,324105,800,975730],[8234770,243090,16580900,53240,17560210,18880,51,2020450,3989,27030,171880,41240,10301,1113526,33560,1722830,25804591,433054,2872280,354240,0,423840],[6960850,199600,11807600,43200,15035711,40320,21,2588850,4012,20230,96430,14430,5010,481243,32760,1428445,18711931,483232,3399300,125110,794,534090]]]}],\"label\":\"Natural Diamonds\",\"method\":\"update\"},{\"args\":[{\"cells.values\":[[[\"Angola\",\"Australia\",\"Botswana\",\"Brazil\",\"Cameroon\",\"Central African Republic\",\"Congo, D.R.\",\"Congo, Rep.\",\"Cote d'Ivoire\",\"Ghana\",\"Guinea\",\"Guyana\",\"India\",\"Liberia\",\"Namibia\",\"Russia\",\"Sierra Leone\",\"South Africa\",\"Tanzania\",\"Togo\",\"Venezuela\",\"Zimbabwe\"],[902147.0,13678840.0,6267300.0,122955.0,994.0,2493.0,12447557.0,12110.0,4047.0,28605.0,28200.0,34970.0,22520.0,24150.0,78650.0,16287840.0,131550.0,4983330.0,35985.0,0.0,null,1493140.0],[943880,16792040,6882300,170780,1757,11960,16634432,46758,2231,17385,45360,13040,26760,24250,90200,20754280,122380,5815560,45670,0,0,1755500],[943390,13727890,7313400,168130,1805,2505,13315465,46768,1140,11505,73180,15530,24560,30220,104510,20187926,339070,5947100,57195,0,1200,2276690],[914975,11911450,7106100,108085,1737,4720,11449240,2963,0,6760,57300,13750,18515,22370,90675,19466621,391403,4308420,62510,16,0,1695350],[773430,9780400,5060400,87700,2438,10080,10355400,11157,0,5060,32145,4810,8910,21840,75180,12474620,202800,5098950,22080,0,0,2136370]]]}],\"label\":\"Lab-Grown Diamonds\",\"method\":\"update\"}],\"direction\":\"down\",\"showactive\":true}],\"showlegend\":false},                        {\"responsive\": true}                    ).then(function(){\n",
       "                            \n",
       "var gd = document.getElementById('46bfdf56-cdba-4313-a78f-9209c5ee0e9c');\n",
       "var x = new MutationObserver(function (mutations, observer) {{\n",
       "        var display = window.getComputedStyle(gd).display;\n",
       "        if (!display || display === 'none') {{\n",
       "            console.log([gd, 'removed!']);\n",
       "            Plotly.purge(gd);\n",
       "            observer.disconnect();\n",
       "        }}\n",
       "}});\n",
       "\n",
       "// Listen for the removal of the full notebook cells\n",
       "var notebookContainer = gd.closest('#notebook-container');\n",
       "if (notebookContainer) {{\n",
       "    x.observe(notebookContainer, {childList: true});\n",
       "}}\n",
       "\n",
       "// Listen for the clearing of the current output cell\n",
       "var outputEl = gd.closest('.output');\n",
       "if (outputEl) {{\n",
       "    x.observe(outputEl, {childList: true});\n",
       "}}\n",
       "\n",
       "                        })                };                });            </script>        </div>"
      ]
     },
     "metadata": {},
     "output_type": "display_data"
    }
   ],
   "source": [
    "\n",
    "headerColor = 'grey'\n",
    "rowEvenColor = 'lightgrey'\n",
    "rowOddColor = 'white'\n",
    "\n",
    "dataframe_filter = go.layout.Updatemenu(\n",
    "    buttons=list([\n",
    "        dict(\n",
    "            args=[{'cells.values': [[df1['Country'], df1['2016'], df1['2017'], df1['2018'], df1['2019'], df1['2020']]]}],\n",
    "            label='Natural Diamonds',\n",
    "            method='update'\n",
    "        ),\n",
    "        dict(\n",
    "            args=[{'cells.values': [[df2['Country'], df2['2016'], df2['2017'], df2['2018'], df2['2019'], df2['2020']]]}],\n",
    "            label='Lab-Grown Diamonds',\n",
    "            method='update'\n",
    "        )\n",
    "    ]),\n",
    "    direction='down',\n",
    "    showactive=True,\n",
    ")\n",
    "\n",
    "fig = go.Figure(data=[go.Table(\n",
    "    columnwidth=[70, 50, 50, 50, 50, 50],\n",
    "    header=dict(\n",
    "        values=list(df1.columns),\n",
    "        line_color='darkslategray',\n",
    "        fill_color=headerColor,\n",
    "        align=['left', 'center'],\n",
    "        font=dict(color='white', size=12)\n",
    "    ),\n",
    "    cells=dict(\n",
    "        values=[df1['Country'], df1['2016'], df1['2017'], df1['2018'], df1['2019'], df1['2020']],\n",
    "        line_color='darkslategray',\n",
    "        # 2-D list of colors for alternating rows\n",
    "        fill_color=[[rowOddColor, rowEvenColor, rowOddColor, rowEvenColor, rowOddColor] * 5],\n",
    "        align=['left', 'center'],\n",
    "        font=dict(color='darkslategray', size=12)\n",
    "    ))\n",
    "])\n",
    "\n",
    "# Add the dataframe filter to the layout\n",
    "fig.update_layout(\n",
    "    updatemenus=[dataframe_filter],\n",
    "    showlegend=False,\n",
    "    title=dict(\n",
    "        text='Natural vs Lab-Grown Diamonds Production (2016-20)',\n",
    "        x=0.5)\n",
    ")\n",
    "\n",
    "fig.show()\n"
   ]
  },
  {
   "cell_type": "code",
   "execution_count": null,
   "id": "f0c6a729",
   "metadata": {},
   "outputs": [],
   "source": []
  }
 ],
 "metadata": {
  "kernelspec": {
   "display_name": "Python 3 (ipykernel)",
   "language": "python",
   "name": "python3"
  },
  "language_info": {
   "codemirror_mode": {
    "name": "ipython",
    "version": 3
   },
   "file_extension": ".py",
   "mimetype": "text/x-python",
   "name": "python",
   "nbconvert_exporter": "python",
   "pygments_lexer": "ipython3",
   "version": "3.10.12"
  }
 },
 "nbformat": 4,
 "nbformat_minor": 5
}
